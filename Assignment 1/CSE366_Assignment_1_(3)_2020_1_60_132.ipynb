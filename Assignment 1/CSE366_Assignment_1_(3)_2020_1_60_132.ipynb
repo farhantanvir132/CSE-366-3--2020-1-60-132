{
  "nbformat": 4,
  "nbformat_minor": 0,
  "metadata": {
    "colab": {
      "provenance": []
    },
    "kernelspec": {
      "name": "python3",
      "display_name": "Python 3"
    },
    "language_info": {
      "name": "python"
    }
  },
  "cells": [
    {
      "cell_type": "code",
      "execution_count": null,
      "metadata": {
        "id": "1U1aYhL4r-iq"
      },
      "outputs": [],
      "source": [
        "import numpy as np\n",
        "import matplotlib.pyplot as plt\n",
        "from collections import deque\n",
        "import heapq\n",
        "\n",
        "class PriorityQueue:\n",
        "    def __init__(self):\n",
        "        self.elements = []\n",
        "\n",
        "    def empty(self):\n",
        "        return len(self.elements) == 0\n",
        "\n",
        "    def put(self, item, priority):\n",
        "        heapq.heappush(self.elements, (priority, item))\n",
        "\n",
        "    def get(self):\n",
        "        return heapq.heappop(self.elements)[1]\n",
        "\n",
        "# Node Class represents a state in the search tree.\n",
        "class Node:\n",
        "    def __init__(self, state, parent=None, action=None, path_cost=0):\n",
        "        self.state = state  # The current position of the agent in the grid.\n",
        "        self.parent = parent  # The node in the search tree that generated this node.\n",
        "        self.action = action  # The action taken to get to this state.\n",
        "        self.path_cost = path_cost  # Cost from the start node to this node.\n",
        "\n",
        "    # Comparison operator for priority queue.\n",
        "    def __lt__(self, other):\n",
        "        return self.path_cost < other.path_cost"
      ]
    },
    {
      "cell_type": "code",
      "source": [
        "def heuristic(a, b):\n",
        "    (x1, y1) = a\n",
        "    (x2, y2) = b\n",
        "    return abs(x1 - x2) + abs(y1 - y2)\n"
      ],
      "metadata": {
        "id": "87T2skswsJX7"
      },
      "execution_count": null,
      "outputs": []
    },
    {
      "cell_type": "code",
      "source": [
        "class Environment:\n",
        "    def __init__(self, grid, start, goal):\n",
        "        self.grid = grid  # The grid layout where 1 represents an obstacle and 0 is free space.\n",
        "        self.initial = start  # Starting position of the agent.\n",
        "        self.goal = goal  # Goal position the agent aims to reach.\n",
        "\n",
        "    # Returns the possible actions from a given state.\n",
        "    def actions(self, state):\n",
        "        possible_actions = ['UP', 'DOWN', 'LEFT', 'RIGHT']\n",
        "        x, y = state\n",
        "\n",
        "        # Remove impossible actions based on grid boundaries and obstacles.\n",
        "        if x == 0 or self.grid[x - 1][y] == 1:\n",
        "            possible_actions.remove('UP')\n",
        "        if x == len(self.grid) - 1 or self.grid[x + 1][y] == 1:\n",
        "            possible_actions.remove('DOWN')\n",
        "        if y == 0 or self.grid[x][y - 1] == 1:\n",
        "            possible_actions.remove('LEFT')\n",
        "        if y == len(self.grid[0]) - 1 or self.grid[x][y + 1] == 1:\n",
        "            possible_actions.remove('RIGHT')\n",
        "\n",
        "        return possible_actions\n",
        "\n",
        "    # Returns the state resulting from taking a given action at a given state.\n",
        "    def result(self, state, action):\n",
        "        x, y = state\n",
        "        if action == 'UP':\n",
        "            return (x - 1, y)\n",
        "        if action == 'DOWN':\n",
        "            return (x + 1, y)\n",
        "        if action == 'LEFT':\n",
        "            return (x, y - 1)\n",
        "        if action == 'RIGHT':\n",
        "            return (x, y + 1)\n",
        "\n",
        "    # Checks if the goal has been reached.\n",
        "    def is_goal(self, state):\n",
        "        return state == self.goal\n"
      ],
      "metadata": {
        "id": "BpKkkXk_sOw7"
      },
      "execution_count": null,
      "outputs": []
    },
    {
      "cell_type": "code",
      "source": [
        "class Robot:\n",
        "    def __init__(self, env):\n",
        "        self.env = env\n",
        "\n",
        "    def recharge_battery(self):\n",
        "        return 100\n",
        "\n",
        "    def ucs_search(self):\n",
        "        battery_level = 100\n",
        "        recharge_count = 0\n",
        "        move_count = 0\n",
        "        start_node = Node(self.env.initial, path_cost=0)\n",
        "        frontier = PriorityQueue()\n",
        "        frontier.put(start_node, 0)\n",
        "        came_from = {self.env.initial: None}\n",
        "        cost_so_far = {self.env.initial: 0}\n",
        "        point= []\n",
        "\n",
        "        while not frontier.empty():\n",
        "            current_node = frontier.get()\n",
        "\n",
        "            if self.env.is_goal(current_node.state):\n",
        "                solution_path = self.reconstruct_path(came_from, current_node.state)\n",
        "                return solution_path, recharge_count, move_count, battery_level, point\n",
        "\n",
        "            if battery_level <= 0:\n",
        "                point.append(current_node.state)\n",
        "                battery_level = self.recharge_battery()\n",
        "                recharge_count += 1\n",
        "\n",
        "            for action in self.env.actions(current_node.state):\n",
        "                new_state = self.env.result(current_node.state, action)\n",
        "                new_cost = cost_so_far[current_node.state] + 1\n",
        "                if new_state not in cost_so_far or new_cost < cost_so_far[new_state]:\n",
        "                    cost_so_far[new_state] = new_cost\n",
        "                    frontier.put(Node(new_state, current_node, action, new_cost), new_cost)\n",
        "                    came_from[new_state] = current_node.state\n",
        "                    battery_level -= 10\n",
        "                    move_count += 1\n",
        "\n",
        "        return [], recharge_count, move_count, battery_level,point\n",
        "\n",
        "    def a_star_search(self):\n",
        "        battery_level = 100\n",
        "        recharge_count = 0\n",
        "        move_count = 0\n",
        "        start_node = Node(self.env.initial, path_cost=0)\n",
        "        frontier = PriorityQueue()\n",
        "        frontier.put(start_node, 0)\n",
        "        came_from = {self.env.initial: None}\n",
        "        cost_so_far = {self.env.initial: 0}\n",
        "        point= []\n",
        "\n",
        "        while not frontier.empty():\n",
        "            current_node = frontier.get()\n",
        "\n",
        "            if self.env.is_goal(current_node.state):\n",
        "                solution_path = self.reconstruct_path(came_from, current_node.state)\n",
        "                return solution_path, recharge_count, move_count, battery_level, point\n",
        "\n",
        "            if battery_level <= 0:\n",
        "                point.append(current_node.state)\n",
        "                battery_level = self.recharge_battery()\n",
        "                recharge_count += 1\n",
        "\n",
        "            for action in self.env.actions(current_node.state):\n",
        "                new_state = self.env.result(current_node.state, action)\n",
        "                new_cost = cost_so_far[current_node.state] + 1\n",
        "                if new_state not in cost_so_far or new_cost < cost_so_far[new_state]:\n",
        "                    cost_so_far[new_state] = new_cost\n",
        "                    priority = new_cost + heuristic(new_state, self.env.goal)\n",
        "                    frontier.put(Node(new_state, current_node, action, new_cost), priority)\n",
        "                    came_from[new_state] = current_node.state\n",
        "                    battery_level -= 10\n",
        "                    move_count += 1\n",
        "\n",
        "        return [], recharge_count, move_count, battery_level,point\n",
        "\n",
        "    def reconstruct_path(self, came_from, current):\n",
        "        path = []\n",
        "        while current in came_from:\n",
        "            path.append(current)\n",
        "            current = came_from[current]\n",
        "        path.append(self.env.initial)\n",
        "        path.reverse()\n",
        "        return path"
      ],
      "metadata": {
        "id": "uSKojrspsQxZ"
      },
      "execution_count": null,
      "outputs": []
    },
    {
      "cell_type": "code",
      "source": [
        "def visualize_grid_and_path(grid, path, points,title):\n",
        "    grid_array = np.array(grid)  # Convert grid to numpy array for easy plotting.\n",
        "    fig, ax = plt.subplots()\n",
        "    ax.imshow(grid_array, cmap='Greys', alpha=0.3)  # Grid background.\n",
        "    start = path[0]\n",
        "    goal = path[-1]\n",
        "    ax.plot(start[1], start[0], 'bs', markersize=10)  # Start position in blue.\n",
        "    ax.plot(goal[1], goal[0], 'gs', markersize=10)  # Goal position in green.\n",
        "    xs, ys = zip(*path)  # Extract X and Y coordinates of the path.\n",
        "    ax.plot(ys, xs, 'r-', linewidth=2)  # Plot the path in red.\n",
        "    for point in points:\n",
        "        ax.plot(point[1], point[0], 'ro', markersize=8)\n",
        "    ax.set_xticks(np.arange(-.5, len(grid[0]), 1), minor=True)\n",
        "    ax.set_yticks(np.arange(-.5, len(grid), 1), minor=True)\n",
        "    ax.grid(which=\"minor\", color=\"b\", linestyle='-', linewidth=1)\n",
        "    ax.tick_params(which=\"minor\", size=0)\n",
        "    ax.tick_params(which=\"major\", bottom=False, left=False, labelbottom=False, labelleft=False)\n",
        "    plt.title(title)\n",
        "    plt.show()\n",
        "\n",
        "# Generate a Random Grid Function\n",
        "def generate_random_grid(size, obstacle_probability):\n",
        "    return np.random.choice([0, 1], size=(size, size), p=[1-obstacle_probability, obstacle_probability])\n",
        "\n",
        "# Define the size of the grid and the probability of an obstacle in each cell\n",
        "grid_size = 10\n",
        "obstacle_probability = 0.2  # 20% chance of being an obstacle\n",
        "\n",
        "# Generate a random grid\n",
        "grid = generate_random_grid(grid_size, obstacle_probability)\n",
        "\n",
        "# Define start and goal positions\n",
        "start = (0, 0)\n",
        "goal = (grid_size - 1, grid_size - 1)\n",
        "\n",
        "# Ensure start and goal are not obstacles\n",
        "grid[start] = 0\n",
        "grid[goal] = 0\n",
        "\n",
        "\n",
        "environment = Environment(grid, start, goal)\n",
        "agent = Robot(environment)\n",
        "\n",
        "solution_path_ucs,recharge_count,move_count, final_battery_ucs, points = agent.ucs_search()\n",
        "print(\"Robot Movement using (UCS):\")\n",
        "visualize_grid_and_path(grid, solution_path_ucs,points,\"Robot Movement using UCS\")\n",
        "print(\"Total Count of recharges (UCS):\", recharge_count)\n",
        "print(\"Total Moves (UCS):\", move_count)\n",
        "print(\"Final Battery Percentage (UCS):\", final_battery_ucs)\n",
        "print(\"Points where battery level became 0 (UCS):\")\n",
        "for j in points:\n",
        "    print(j)\n",
        "\n",
        "print(\"\\n\")\n",
        "solution_path,recharge_count1,move_count1,final_battery_astar, points1 = agent.a_star_search()\n",
        "print(\"Robot Movement using (A*):\")\n",
        "visualize_grid_and_path(grid, solution_path,points1,\"Robot Movement Using A*\")\n",
        "print(\"Total Count of recharges (A*):\", recharge_count1)\n",
        "print(\"Total Moves (A*):\", move_count1)\n",
        "print(\"Final Battery Percentage (A*):\", final_battery_astar)\n",
        "print(\"Points where battery level became 0 (A *):\")\n",
        "for i in points1:\n",
        "    print(i)"
      ],
      "metadata": {
        "colab": {
          "base_uri": "https://localhost:8080/",
          "height": 1000
        },
        "id": "idkiycYmv1b8",
        "outputId": "4c77314c-6374-4d1f-ca18-0a60879a61d2"
      },
      "execution_count": null,
      "outputs": [
        {
          "output_type": "stream",
          "name": "stdout",
          "text": [
            "Robot Movement using (UCS):\n"
          ]
        },
        {
          "output_type": "display_data",
          "data": {
            "text/plain": [
              "<Figure size 640x480 with 1 Axes>"
            ],
            "image/png": "[encoded data removed]"
          },
          "metadata": {}
        },
        {
          "output_type": "stream",
          "name": "stdout",
          "text": [
            "Total Count of recharges (UCS): 7\n",
            "Total Moves (UCS): 74\n",
            "Final Battery Percentage (UCS): 80\n",
            "Points where battery level became 0 (UCS):\n",
            "(2, 3)\n",
            "(5, 6)\n",
            "(5, 5)\n",
            "(8, 6)\n",
            "(5, 2)\n",
            "(9, 5)\n",
            "(9, 4)\n",
            "\n",
            "\n",
            "Robot Movement using (A*):\n"
          ]
        },
        {
          "output_type": "display_data",
          "data": {
            "text/plain": [
              "<Figure size 640x480 with 1 Axes>"
            ],
            "image/png": "[encoded data removed]"
          },
          "metadata": {}
        },
        {
          "output_type": "stream",
          "name": "stdout",
          "text": [
            "Total Count of recharges (A*): 4\n",
            "Total Moves (A*): 44\n",
            "Final Battery Percentage (A*): 70\n",
            "Points where battery level became 0 (A *):\n",
            "(2, 3)\n",
            "(5, 6)\n",
            "(5, 7)\n",
            "(8, 8)\n"
          ]
        }
      ]
    },
    {
      "cell_type": "code",
      "source": [],
      "metadata": {
        "id": "57W3EoldsrDB"
      },
      "execution_count": null,
      "outputs": []
    }
  ]
}